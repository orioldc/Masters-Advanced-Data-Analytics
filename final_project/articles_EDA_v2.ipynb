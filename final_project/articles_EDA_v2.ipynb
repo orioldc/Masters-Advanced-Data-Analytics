{
 "cells": [
  {
   "attachments": {},
   "cell_type": "markdown",
   "metadata": {},
   "source": [
    "# Import libraries"
   ]
  },
  {
   "cell_type": "code",
   "execution_count": 1,
   "metadata": {},
   "outputs": [],
   "source": [
    "import pandas as pd\n",
    "import numpy as np\n",
    "import matplotlib.pyplot as plt"
   ]
  },
  {
   "attachments": {},
   "cell_type": "markdown",
   "metadata": {},
   "source": [
    "# Import and prepare data"
   ]
  },
  {
   "cell_type": "code",
   "execution_count": 2,
   "metadata": {},
   "outputs": [
    {
     "data": {
      "text/html": [
       "<div>\n",
       "<style scoped>\n",
       "    .dataframe tbody tr th:only-of-type {\n",
       "        vertical-align: middle;\n",
       "    }\n",
       "\n",
       "    .dataframe tbody tr th {\n",
       "        vertical-align: top;\n",
       "    }\n",
       "\n",
       "    .dataframe thead th {\n",
       "        text-align: right;\n",
       "    }\n",
       "</style>\n",
       "<table border=\"1\" class=\"dataframe\">\n",
       "  <thead>\n",
       "    <tr style=\"text-align: right;\">\n",
       "      <th></th>\n",
       "      <th>normalized_urls</th>\n",
       "      <th>headline</th>\n",
       "      <th>body</th>\n",
       "    </tr>\n",
       "  </thead>\n",
       "  <tbody>\n",
       "    <tr>\n",
       "      <th>0</th>\n",
       "      <td>https://news.yahoo.com/did-nothing-wrong-famil...</td>\n",
       "      <td>'He did nothing wrong': Family of Texas entrep...</td>\n",
       "      <td>A tech entrepreneur in Texas wasn’t given ampl...</td>\n",
       "    </tr>\n",
       "    <tr>\n",
       "      <th>1</th>\n",
       "      <td>https://news.yahoo.com/deadline-for-real-i-ds-...</td>\n",
       "      <td>Deadline for REAL IDs, required for domestic U...</td>\n",
       "      <td>(Photo Illustration: Jack Forbes/Yahoo News; P...</td>\n",
       "    </tr>\n",
       "  </tbody>\n",
       "</table>\n",
       "</div>"
      ],
      "text/plain": [
       "                                     normalized_urls  \\\n",
       "0  https://news.yahoo.com/did-nothing-wrong-famil...   \n",
       "1  https://news.yahoo.com/deadline-for-real-i-ds-...   \n",
       "\n",
       "                                            headline  \\\n",
       "0  'He did nothing wrong': Family of Texas entrep...   \n",
       "1  Deadline for REAL IDs, required for domestic U...   \n",
       "\n",
       "                                                body  \n",
       "0  A tech entrepreneur in Texas wasn’t given ampl...  \n",
       "1  (Photo Illustration: Jack Forbes/Yahoo News; P...  "
      ]
     },
     "execution_count": 2,
     "metadata": {},
     "output_type": "execute_result"
    }
   ],
   "source": [
    "# import article text\n",
    "\n",
    "df_articles = pd.read_excel(\"/Users/oriold/Desktop/Masters_Contextual/articles_all_20k.xlsx\")\n",
    "\n",
    "df_articles.head(2)"
   ]
  },
  {
   "cell_type": "code",
   "execution_count": 3,
   "metadata": {},
   "outputs": [
    {
     "data": {
      "text/html": [
       "<div>\n",
       "<style scoped>\n",
       "    .dataframe tbody tr th:only-of-type {\n",
       "        vertical-align: middle;\n",
       "    }\n",
       "\n",
       "    .dataframe tbody tr th {\n",
       "        vertical-align: top;\n",
       "    }\n",
       "\n",
       "    .dataframe thead th {\n",
       "        text-align: right;\n",
       "    }\n",
       "</style>\n",
       "<table border=\"1\" class=\"dataframe\">\n",
       "  <thead>\n",
       "    <tr style=\"text-align: right;\">\n",
       "      <th></th>\n",
       "      <th>unique_urls</th>\n",
       "      <th>headline</th>\n",
       "      <th>body</th>\n",
       "    </tr>\n",
       "  </thead>\n",
       "  <tbody>\n",
       "    <tr>\n",
       "      <th>0</th>\n",
       "      <td>https://news.yahoo.com/did-nothing-wrong-famil...</td>\n",
       "      <td>'He did nothing wrong': Family of Texas entrep...</td>\n",
       "      <td>A tech entrepreneur in Texas wasn’t given ampl...</td>\n",
       "    </tr>\n",
       "  </tbody>\n",
       "</table>\n",
       "</div>"
      ],
      "text/plain": [
       "                                         unique_urls  \\\n",
       "0  https://news.yahoo.com/did-nothing-wrong-famil...   \n",
       "\n",
       "                                            headline  \\\n",
       "0  'He did nothing wrong': Family of Texas entrep...   \n",
       "\n",
       "                                                body  \n",
       "0  A tech entrepreneur in Texas wasn’t given ampl...  "
      ]
     },
     "execution_count": 3,
     "metadata": {},
     "output_type": "execute_result"
    }
   ],
   "source": [
    "#rename column urls \n",
    "\n",
    "df_articles = df_articles.rename(columns={'normalized_urls': 'unique_urls'})\n",
    "\n",
    "df_articles.head(1)"
   ]
  },
  {
   "cell_type": "code",
   "execution_count": 4,
   "metadata": {},
   "outputs": [
    {
     "data": {
      "text/html": [
       "<div>\n",
       "<style scoped>\n",
       "    .dataframe tbody tr th:only-of-type {\n",
       "        vertical-align: middle;\n",
       "    }\n",
       "\n",
       "    .dataframe tbody tr th {\n",
       "        vertical-align: top;\n",
       "    }\n",
       "\n",
       "    .dataframe thead th {\n",
       "        text-align: right;\n",
       "    }\n",
       "</style>\n",
       "<table border=\"1\" class=\"dataframe\">\n",
       "  <thead>\n",
       "    <tr style=\"text-align: right;\">\n",
       "      <th></th>\n",
       "      <th>Unnamed: 0</th>\n",
       "      <th>unique_urls</th>\n",
       "      <th>IAS_GS_unsafe_flag</th>\n",
       "      <th>GS_DV_unsafe_flag</th>\n",
       "      <th>IAS_DV_unsafe_flag</th>\n",
       "      <th>IAS_unsafe_flag</th>\n",
       "      <th>GS_unsafe_flag</th>\n",
       "      <th>DV_unsafe_flag</th>\n",
       "      <th>headline</th>\n",
       "      <th>page_uuid</th>\n",
       "      <th>content_views</th>\n",
       "    </tr>\n",
       "  </thead>\n",
       "  <tbody>\n",
       "    <tr>\n",
       "      <th>0</th>\n",
       "      <td>0</td>\n",
       "      <td>https://news.yahoo.com</td>\n",
       "      <td>unsafe</td>\n",
       "      <td>unsafe</td>\n",
       "      <td>unsafe</td>\n",
       "      <td>unsafe</td>\n",
       "      <td>unsafe</td>\n",
       "      <td>unsafe</td>\n",
       "      <td>NaN</td>\n",
       "      <td>NaN</td>\n",
       "      <td>0</td>\n",
       "    </tr>\n",
       "    <tr>\n",
       "      <th>1</th>\n",
       "      <td>1</td>\n",
       "      <td>https://news.yahoo.com/</td>\n",
       "      <td>unsafe</td>\n",
       "      <td>unsafe</td>\n",
       "      <td>unsafe</td>\n",
       "      <td>unsafe</td>\n",
       "      <td>unsafe</td>\n",
       "      <td>unsafe</td>\n",
       "      <td>NaN</td>\n",
       "      <td>NaN</td>\n",
       "      <td>0</td>\n",
       "    </tr>\n",
       "  </tbody>\n",
       "</table>\n",
       "</div>"
      ],
      "text/plain": [
       "   Unnamed: 0              unique_urls IAS_GS_unsafe_flag GS_DV_unsafe_flag  \\\n",
       "0           0   https://news.yahoo.com             unsafe            unsafe   \n",
       "1           1  https://news.yahoo.com/             unsafe            unsafe   \n",
       "\n",
       "  IAS_DV_unsafe_flag IAS_unsafe_flag GS_unsafe_flag DV_unsafe_flag headline  \\\n",
       "0             unsafe          unsafe         unsafe         unsafe      NaN   \n",
       "1             unsafe          unsafe         unsafe         unsafe      NaN   \n",
       "\n",
       "  page_uuid  content_views  \n",
       "0       NaN              0  \n",
       "1       NaN              0  "
      ]
     },
     "execution_count": 4,
     "metadata": {},
     "output_type": "execute_result"
    }
   ],
   "source": [
    "# import classified article data \n",
    "\n",
    "df_classified = pd.read_excel(\"/Users/oriold/Desktop/Masters_Contextual/unique_urls_classified_1203.xlsx\")\n",
    "\n",
    "df_classified.head(2)"
   ]
  },
  {
   "cell_type": "code",
   "execution_count": 5,
   "metadata": {},
   "outputs": [
    {
     "data": {
      "text/html": [
       "<div>\n",
       "<style scoped>\n",
       "    .dataframe tbody tr th:only-of-type {\n",
       "        vertical-align: middle;\n",
       "    }\n",
       "\n",
       "    .dataframe tbody tr th {\n",
       "        vertical-align: top;\n",
       "    }\n",
       "\n",
       "    .dataframe thead th {\n",
       "        text-align: right;\n",
       "    }\n",
       "</style>\n",
       "<table border=\"1\" class=\"dataframe\">\n",
       "  <thead>\n",
       "    <tr style=\"text-align: right;\">\n",
       "      <th></th>\n",
       "      <th>unique_urls</th>\n",
       "      <th>IAS_GS_unsafe_flag</th>\n",
       "      <th>GS_DV_unsafe_flag</th>\n",
       "      <th>IAS_DV_unsafe_flag</th>\n",
       "      <th>IAS_unsafe_flag</th>\n",
       "      <th>GS_unsafe_flag</th>\n",
       "      <th>DV_unsafe_flag</th>\n",
       "      <th>page_uuid</th>\n",
       "      <th>content_views</th>\n",
       "    </tr>\n",
       "  </thead>\n",
       "  <tbody>\n",
       "    <tr>\n",
       "      <th>0</th>\n",
       "      <td>https://news.yahoo.com</td>\n",
       "      <td>unsafe</td>\n",
       "      <td>unsafe</td>\n",
       "      <td>unsafe</td>\n",
       "      <td>unsafe</td>\n",
       "      <td>unsafe</td>\n",
       "      <td>unsafe</td>\n",
       "      <td>NaN</td>\n",
       "      <td>0</td>\n",
       "    </tr>\n",
       "    <tr>\n",
       "      <th>1</th>\n",
       "      <td>https://news.yahoo.com/</td>\n",
       "      <td>unsafe</td>\n",
       "      <td>unsafe</td>\n",
       "      <td>unsafe</td>\n",
       "      <td>unsafe</td>\n",
       "      <td>unsafe</td>\n",
       "      <td>unsafe</td>\n",
       "      <td>NaN</td>\n",
       "      <td>0</td>\n",
       "    </tr>\n",
       "  </tbody>\n",
       "</table>\n",
       "</div>"
      ],
      "text/plain": [
       "               unique_urls IAS_GS_unsafe_flag GS_DV_unsafe_flag  \\\n",
       "0   https://news.yahoo.com             unsafe            unsafe   \n",
       "1  https://news.yahoo.com/             unsafe            unsafe   \n",
       "\n",
       "  IAS_DV_unsafe_flag IAS_unsafe_flag GS_unsafe_flag DV_unsafe_flag page_uuid  \\\n",
       "0             unsafe          unsafe         unsafe         unsafe       NaN   \n",
       "1             unsafe          unsafe         unsafe         unsafe       NaN   \n",
       "\n",
       "   content_views  \n",
       "0              0  \n",
       "1              0  "
      ]
     },
     "execution_count": 5,
     "metadata": {},
     "output_type": "execute_result"
    }
   ],
   "source": [
    "#drop unnecessary columns from df_classified \n",
    "\n",
    "df_classified = df_classified[['unique_urls', 'IAS_GS_unsafe_flag',\t'GS_DV_unsafe_flag','IAS_DV_unsafe_flag',\n",
    "                                'IAS_unsafe_flag','GS_unsafe_flag','DV_unsafe_flag','page_uuid','content_views']]\n",
    "\n",
    "df_classified.head(2)"
   ]
  },
  {
   "cell_type": "code",
   "execution_count": 6,
   "metadata": {},
   "outputs": [
    {
     "data": {
      "text/html": [
       "<div>\n",
       "<style scoped>\n",
       "    .dataframe tbody tr th:only-of-type {\n",
       "        vertical-align: middle;\n",
       "    }\n",
       "\n",
       "    .dataframe tbody tr th {\n",
       "        vertical-align: top;\n",
       "    }\n",
       "\n",
       "    .dataframe thead th {\n",
       "        text-align: right;\n",
       "    }\n",
       "</style>\n",
       "<table border=\"1\" class=\"dataframe\">\n",
       "  <thead>\n",
       "    <tr style=\"text-align: right;\">\n",
       "      <th></th>\n",
       "      <th>unique_urls</th>\n",
       "      <th>IAS_GS_unsafe_flag</th>\n",
       "      <th>GS_DV_unsafe_flag</th>\n",
       "      <th>IAS_DV_unsafe_flag</th>\n",
       "      <th>IAS_unsafe_flag</th>\n",
       "      <th>GS_unsafe_flag</th>\n",
       "      <th>DV_unsafe_flag</th>\n",
       "      <th>page_uuid</th>\n",
       "      <th>content_views</th>\n",
       "    </tr>\n",
       "  </thead>\n",
       "  <tbody>\n",
       "    <tr>\n",
       "      <th>0</th>\n",
       "      <td>https://news.yahoo.com/did-nothing-wrong-famil...</td>\n",
       "      <td>unsafe</td>\n",
       "      <td>unsafe</td>\n",
       "      <td>unsafe</td>\n",
       "      <td>unsafe</td>\n",
       "      <td>unsafe</td>\n",
       "      <td>unsafe</td>\n",
       "      <td>8d0dc70c-83ca-3032-bd4b-7a51d0c47d18</td>\n",
       "      <td>1297411</td>\n",
       "    </tr>\n",
       "    <tr>\n",
       "      <th>1</th>\n",
       "      <td>https://news.yahoo.com/deadline-for-real-i-ds-...</td>\n",
       "      <td>unsafe</td>\n",
       "      <td>unsafe</td>\n",
       "      <td>unsafe</td>\n",
       "      <td>unsafe</td>\n",
       "      <td>unsafe</td>\n",
       "      <td>safe</td>\n",
       "      <td>870b1a79-8072-4cbb-83ce-31e2529d601a</td>\n",
       "      <td>629616</td>\n",
       "    </tr>\n",
       "  </tbody>\n",
       "</table>\n",
       "</div>"
      ],
      "text/plain": [
       "                                         unique_urls IAS_GS_unsafe_flag  \\\n",
       "0  https://news.yahoo.com/did-nothing-wrong-famil...             unsafe   \n",
       "1  https://news.yahoo.com/deadline-for-real-i-ds-...             unsafe   \n",
       "\n",
       "  GS_DV_unsafe_flag IAS_DV_unsafe_flag IAS_unsafe_flag GS_unsafe_flag  \\\n",
       "0            unsafe             unsafe          unsafe         unsafe   \n",
       "1            unsafe             unsafe          unsafe         unsafe   \n",
       "\n",
       "  DV_unsafe_flag                             page_uuid  content_views  \n",
       "0         unsafe  8d0dc70c-83ca-3032-bd4b-7a51d0c47d18        1297411  \n",
       "1           safe  870b1a79-8072-4cbb-83ce-31e2529d601a         629616  "
      ]
     },
     "execution_count": 6,
     "metadata": {},
     "output_type": "execute_result"
    }
   ],
   "source": [
    "df_classified = df_classified.sort_values(by=\"content_views\", ascending=False)\n",
    "\n",
    "df_classified = df_classified.reset_index(drop=True)\n",
    "\n",
    "df_classified.head(2)"
   ]
  },
  {
   "cell_type": "code",
   "execution_count": 7,
   "metadata": {},
   "outputs": [
    {
     "data": {
      "text/html": [
       "<div>\n",
       "<style scoped>\n",
       "    .dataframe tbody tr th:only-of-type {\n",
       "        vertical-align: middle;\n",
       "    }\n",
       "\n",
       "    .dataframe tbody tr th {\n",
       "        vertical-align: top;\n",
       "    }\n",
       "\n",
       "    .dataframe thead th {\n",
       "        text-align: right;\n",
       "    }\n",
       "</style>\n",
       "<table border=\"1\" class=\"dataframe\">\n",
       "  <thead>\n",
       "    <tr style=\"text-align: right;\">\n",
       "      <th></th>\n",
       "      <th>unique_urls</th>\n",
       "      <th>headline</th>\n",
       "      <th>body</th>\n",
       "      <th>IAS_GS_unsafe_flag</th>\n",
       "      <th>GS_DV_unsafe_flag</th>\n",
       "      <th>IAS_DV_unsafe_flag</th>\n",
       "      <th>IAS_unsafe_flag</th>\n",
       "      <th>GS_unsafe_flag</th>\n",
       "      <th>DV_unsafe_flag</th>\n",
       "      <th>page_uuid</th>\n",
       "      <th>content_views</th>\n",
       "    </tr>\n",
       "  </thead>\n",
       "  <tbody>\n",
       "    <tr>\n",
       "      <th>0</th>\n",
       "      <td>https://news.yahoo.com/did-nothing-wrong-famil...</td>\n",
       "      <td>'He did nothing wrong': Family of Texas entrep...</td>\n",
       "      <td>A tech entrepreneur in Texas wasn’t given ampl...</td>\n",
       "      <td>unsafe</td>\n",
       "      <td>unsafe</td>\n",
       "      <td>unsafe</td>\n",
       "      <td>unsafe</td>\n",
       "      <td>unsafe</td>\n",
       "      <td>unsafe</td>\n",
       "      <td>8d0dc70c-83ca-3032-bd4b-7a51d0c47d18</td>\n",
       "      <td>1297411.0</td>\n",
       "    </tr>\n",
       "    <tr>\n",
       "      <th>1</th>\n",
       "      <td>https://news.yahoo.com/deadline-for-real-i-ds-...</td>\n",
       "      <td>Deadline for REAL IDs, required for domestic U...</td>\n",
       "      <td>(Photo Illustration: Jack Forbes/Yahoo News; P...</td>\n",
       "      <td>unsafe</td>\n",
       "      <td>unsafe</td>\n",
       "      <td>unsafe</td>\n",
       "      <td>unsafe</td>\n",
       "      <td>unsafe</td>\n",
       "      <td>safe</td>\n",
       "      <td>870b1a79-8072-4cbb-83ce-31e2529d601a</td>\n",
       "      <td>629616.0</td>\n",
       "    </tr>\n",
       "  </tbody>\n",
       "</table>\n",
       "</div>"
      ],
      "text/plain": [
       "                                         unique_urls  \\\n",
       "0  https://news.yahoo.com/did-nothing-wrong-famil...   \n",
       "1  https://news.yahoo.com/deadline-for-real-i-ds-...   \n",
       "\n",
       "                                            headline  \\\n",
       "0  'He did nothing wrong': Family of Texas entrep...   \n",
       "1  Deadline for REAL IDs, required for domestic U...   \n",
       "\n",
       "                                                body IAS_GS_unsafe_flag  \\\n",
       "0  A tech entrepreneur in Texas wasn’t given ampl...             unsafe   \n",
       "1  (Photo Illustration: Jack Forbes/Yahoo News; P...             unsafe   \n",
       "\n",
       "  GS_DV_unsafe_flag IAS_DV_unsafe_flag IAS_unsafe_flag GS_unsafe_flag  \\\n",
       "0            unsafe             unsafe          unsafe         unsafe   \n",
       "1            unsafe             unsafe          unsafe         unsafe   \n",
       "\n",
       "  DV_unsafe_flag                             page_uuid  content_views  \n",
       "0         unsafe  8d0dc70c-83ca-3032-bd4b-7a51d0c47d18      1297411.0  \n",
       "1           safe  870b1a79-8072-4cbb-83ce-31e2529d601a       629616.0  "
      ]
     },
     "execution_count": 7,
     "metadata": {},
     "output_type": "execute_result"
    }
   ],
   "source": [
    "#merge flags into the unique url dataframe \n",
    "\n",
    "df = pd.merge(df_articles, \n",
    "              df_classified, \n",
    "              on = 'unique_urls',\n",
    "              how = 'left')\n",
    "\n",
    "df.head(2)"
   ]
  },
  {
   "cell_type": "code",
   "execution_count": 8,
   "metadata": {},
   "outputs": [
    {
     "data": {
      "text/html": [
       "<div>\n",
       "<style scoped>\n",
       "    .dataframe tbody tr th:only-of-type {\n",
       "        vertical-align: middle;\n",
       "    }\n",
       "\n",
       "    .dataframe tbody tr th {\n",
       "        vertical-align: top;\n",
       "    }\n",
       "\n",
       "    .dataframe thead th {\n",
       "        text-align: right;\n",
       "    }\n",
       "</style>\n",
       "<table border=\"1\" class=\"dataframe\">\n",
       "  <thead>\n",
       "    <tr style=\"text-align: right;\">\n",
       "      <th></th>\n",
       "      <th>Title</th>\n",
       "      <th>Canonical URL</th>\n",
       "      <th>Page Content UUID</th>\n",
       "      <th>Display Revenue</th>\n",
       "    </tr>\n",
       "  </thead>\n",
       "  <tbody>\n",
       "    <tr>\n",
       "      <th>0</th>\n",
       "      <td>'He did nothing wrong': Family of Texas entrep...</td>\n",
       "      <td>https://news.yahoo.com/did-nothing-wrong-famil...</td>\n",
       "      <td>8d0dc70c-83ca-3032-bd4b-7a51d0c47d18</td>\n",
       "      <td>8605.19</td>\n",
       "    </tr>\n",
       "    <tr>\n",
       "      <th>1</th>\n",
       "      <td>Deadline for REAL IDs, required for domestic U...</td>\n",
       "      <td>https://news.yahoo.com/deadline-for-real-i-ds-...</td>\n",
       "      <td>870b1a79-8072-4cbb-83ce-31e2529d601a</td>\n",
       "      <td>3758.81</td>\n",
       "    </tr>\n",
       "  </tbody>\n",
       "</table>\n",
       "</div>"
      ],
      "text/plain": [
       "                                               Title  \\\n",
       "0  'He did nothing wrong': Family of Texas entrep...   \n",
       "1  Deadline for REAL IDs, required for domestic U...   \n",
       "\n",
       "                                       Canonical URL  \\\n",
       "0  https://news.yahoo.com/did-nothing-wrong-famil...   \n",
       "1  https://news.yahoo.com/deadline-for-real-i-ds-...   \n",
       "\n",
       "                      Page Content UUID  Display Revenue  \n",
       "0  8d0dc70c-83ca-3032-bd4b-7a51d0c47d18          8605.19  \n",
       "1  870b1a79-8072-4cbb-83ce-31e2529d601a          3758.81  "
      ]
     },
     "execution_count": 8,
     "metadata": {},
     "output_type": "execute_result"
    }
   ],
   "source": [
    "# import revenue data\n",
    "\n",
    "df_revenue = pd.read_csv(\"/Users/oriold/Desktop/Masters_Contextual/december_2022_raw_data/maw_summary v_merged_revenue 2023-01-05T1850.csv\")\n",
    "\n",
    "df_revenue.head(2)"
   ]
  },
  {
   "cell_type": "code",
   "execution_count": 9,
   "metadata": {},
   "outputs": [],
   "source": [
    "#keep only columns that matter \n",
    "\n",
    "df_revenue = df_revenue[['Page Content UUID', 'Display Revenue']]\n",
    "\n",
    "#rename column UUID \n",
    "\n",
    "df_revenue = df_revenue.rename(columns={'Page Content UUID': 'page_uuid'})"
   ]
  },
  {
   "cell_type": "code",
   "execution_count": 10,
   "metadata": {},
   "outputs": [
    {
     "data": {
      "text/html": [
       "<div>\n",
       "<style scoped>\n",
       "    .dataframe tbody tr th:only-of-type {\n",
       "        vertical-align: middle;\n",
       "    }\n",
       "\n",
       "    .dataframe tbody tr th {\n",
       "        vertical-align: top;\n",
       "    }\n",
       "\n",
       "    .dataframe thead th {\n",
       "        text-align: right;\n",
       "    }\n",
       "</style>\n",
       "<table border=\"1\" class=\"dataframe\">\n",
       "  <thead>\n",
       "    <tr style=\"text-align: right;\">\n",
       "      <th></th>\n",
       "      <th>unique_urls</th>\n",
       "      <th>headline</th>\n",
       "      <th>body</th>\n",
       "      <th>IAS_GS_unsafe_flag</th>\n",
       "      <th>GS_DV_unsafe_flag</th>\n",
       "      <th>IAS_DV_unsafe_flag</th>\n",
       "      <th>IAS_unsafe_flag</th>\n",
       "      <th>GS_unsafe_flag</th>\n",
       "      <th>DV_unsafe_flag</th>\n",
       "      <th>page_uuid</th>\n",
       "      <th>content_views</th>\n",
       "      <th>Display Revenue</th>\n",
       "    </tr>\n",
       "  </thead>\n",
       "  <tbody>\n",
       "    <tr>\n",
       "      <th>0</th>\n",
       "      <td>https://news.yahoo.com/did-nothing-wrong-famil...</td>\n",
       "      <td>'He did nothing wrong': Family of Texas entrep...</td>\n",
       "      <td>A tech entrepreneur in Texas wasn’t given ampl...</td>\n",
       "      <td>unsafe</td>\n",
       "      <td>unsafe</td>\n",
       "      <td>unsafe</td>\n",
       "      <td>unsafe</td>\n",
       "      <td>unsafe</td>\n",
       "      <td>unsafe</td>\n",
       "      <td>8d0dc70c-83ca-3032-bd4b-7a51d0c47d18</td>\n",
       "      <td>1297411.0</td>\n",
       "      <td>8605.19</td>\n",
       "    </tr>\n",
       "    <tr>\n",
       "      <th>1</th>\n",
       "      <td>https://news.yahoo.com/deadline-for-real-i-ds-...</td>\n",
       "      <td>Deadline for REAL IDs, required for domestic U...</td>\n",
       "      <td>(Photo Illustration: Jack Forbes/Yahoo News; P...</td>\n",
       "      <td>unsafe</td>\n",
       "      <td>unsafe</td>\n",
       "      <td>unsafe</td>\n",
       "      <td>unsafe</td>\n",
       "      <td>unsafe</td>\n",
       "      <td>safe</td>\n",
       "      <td>870b1a79-8072-4cbb-83ce-31e2529d601a</td>\n",
       "      <td>629616.0</td>\n",
       "      <td>3758.81</td>\n",
       "    </tr>\n",
       "  </tbody>\n",
       "</table>\n",
       "</div>"
      ],
      "text/plain": [
       "                                         unique_urls  \\\n",
       "0  https://news.yahoo.com/did-nothing-wrong-famil...   \n",
       "1  https://news.yahoo.com/deadline-for-real-i-ds-...   \n",
       "\n",
       "                                            headline  \\\n",
       "0  'He did nothing wrong': Family of Texas entrep...   \n",
       "1  Deadline for REAL IDs, required for domestic U...   \n",
       "\n",
       "                                                body IAS_GS_unsafe_flag  \\\n",
       "0  A tech entrepreneur in Texas wasn’t given ampl...             unsafe   \n",
       "1  (Photo Illustration: Jack Forbes/Yahoo News; P...             unsafe   \n",
       "\n",
       "  GS_DV_unsafe_flag IAS_DV_unsafe_flag IAS_unsafe_flag GS_unsafe_flag  \\\n",
       "0            unsafe             unsafe          unsafe         unsafe   \n",
       "1            unsafe             unsafe          unsafe         unsafe   \n",
       "\n",
       "  DV_unsafe_flag                             page_uuid  content_views  \\\n",
       "0         unsafe  8d0dc70c-83ca-3032-bd4b-7a51d0c47d18      1297411.0   \n",
       "1           safe  870b1a79-8072-4cbb-83ce-31e2529d601a       629616.0   \n",
       "\n",
       "   Display Revenue  \n",
       "0          8605.19  \n",
       "1          3758.81  "
      ]
     },
     "execution_count": 10,
     "metadata": {},
     "output_type": "execute_result"
    }
   ],
   "source": [
    "#merge flags into the unique url dataframe \n",
    "\n",
    "df = pd.merge(df, \n",
    "              df_revenue, \n",
    "              on = 'page_uuid',\n",
    "              how = 'left')\n",
    "\n",
    "df.head(2)"
   ]
  },
  {
   "attachments": {},
   "cell_type": "markdown",
   "metadata": {},
   "source": [
    "# Start EDA"
   ]
  },
  {
   "cell_type": "code",
   "execution_count": 11,
   "metadata": {},
   "outputs": [
    {
     "data": {
      "text/plain": [
       "(12140, 12)"
      ]
     },
     "execution_count": 11,
     "metadata": {},
     "output_type": "execute_result"
    }
   ],
   "source": [
    "df.shape"
   ]
  },
  {
   "cell_type": "code",
   "execution_count": 12,
   "metadata": {},
   "outputs": [
    {
     "data": {
      "text/plain": [
       "(1172, 12)"
      ]
     },
     "execution_count": 12,
     "metadata": {},
     "output_type": "execute_result"
    }
   ],
   "source": [
    "#delete all rows that don't have revenue data associated \n",
    "\n",
    "df_eda = df.dropna(axis=0, subset=['Display Revenue'])\n",
    "\n",
    "df_eda.shape"
   ]
  },
  {
   "attachments": {},
   "cell_type": "markdown",
   "metadata": {},
   "source": [
    "Calculate yield difference for GS and DV"
   ]
  },
  {
   "cell_type": "code",
   "execution_count": 13,
   "metadata": {},
   "outputs": [],
   "source": [
    "# understand yield by classification type\n",
    "\n",
    "df_yield = df_eda.groupby('GS_DV_unsafe_flag').apply(lambda x: x['Display Revenue'].sum()/x['content_views'].sum()*100)\n",
    "\n",
    "#calculate pct difference between safe and unsafe \n",
    "\n",
    "pct_diff = (df_yield[0]-df_yield[1])/df_yield[1]*100\n",
    "\n",
    "#transform to dataframe\n",
    "\n",
    "df_yield = pd.DataFrame(df_yield)\n",
    "\n",
    "# format the df\n",
    "\n",
    "df_yield.columns = df_yield.columns.to_flat_index()\n",
    "\n",
    "df_yield = df_yield.reset_index()\n",
    "\n",
    "df_yield = df_yield.rename(columns={0: 'yield'})\n",
    "\n",
    "df_yield['yield'] = df_yield['yield'].round(2)\n"
   ]
  },
  {
   "cell_type": "code",
   "execution_count": 14,
   "metadata": {},
   "outputs": [
    {
     "data": {
      "image/png": "[encoded data removed]",
      "text/plain": [
       "<Figure size 360x288 with 1 Axes>"
      ]
     },
     "metadata": {
      "needs_background": "light"
     },
     "output_type": "display_data"
    }
   ],
   "source": [
    "#define a function to show the yield differences by brand safety category \n",
    "\n",
    "x = df_yield['GS_DV_unsafe_flag']\n",
    "\n",
    "y = df_yield[\"yield\"]\n",
    "\n",
    "def yield_chart(x, y, vendor):\n",
    "    fig, ax = plt.subplots(figsize=(5,4))\n",
    "    bar_colors = [\"green\", \"salmon\"]\n",
    "    ax.set_title(\"Display yield based on {} classification\\n({:.1f}% diff)\".format(vendor,pct_diff))\n",
    "    p1 = ax.bar(x, y, label = x.values, color = bar_colors)\n",
    "    ax.bar_label(p1)\n",
    "    ax.set_xlabel(\"{} BS Classification\".format(vendor))\n",
    "    ax.set_ylabel(\"Yield ($)\")\n",
    "\n",
    "yield_chart(x, y, \"GS & DV\")"
   ]
  },
  {
   "attachments": {},
   "cell_type": "markdown",
   "metadata": {},
   "source": [
    "Calculate yield difference for IAS"
   ]
  },
  {
   "cell_type": "code",
   "execution_count": 15,
   "metadata": {},
   "outputs": [],
   "source": [
    "# understand yield by classification type\n",
    "\n",
    "df_yield = df_eda.groupby('IAS_unsafe_flag').apply(lambda x: x['Display Revenue'].sum()/x['content_views'].sum()*100)\n",
    "\n",
    "#calculate pct difference between safe and unsafe \n",
    "\n",
    "pct_diff = (df_yield[0]-df_yield[1])/df_yield[1]*100\n",
    "\n",
    "#transform to dataframe\n",
    "\n",
    "df_yield = pd.DataFrame(df_yield)\n",
    "\n",
    "# format the df\n",
    "\n",
    "df_yield.columns = df_yield.columns.to_flat_index()\n",
    "\n",
    "df_yield = df_yield.reset_index()\n",
    "\n",
    "df_yield = df_yield.rename(columns={0: 'yield'})\n",
    "\n",
    "df_yield['yield'] = df_yield['yield'].round(2)\n"
   ]
  },
  {
   "cell_type": "code",
   "execution_count": 16,
   "metadata": {},
   "outputs": [
    {
     "data": {
      "image/png": "[encoded data removed]",
      "text/plain": [
       "<Figure size 360x288 with 1 Axes>"
      ]
     },
     "metadata": {
      "needs_background": "light"
     },
     "output_type": "display_data"
    }
   ],
   "source": [
    "# chart yield difference for IAS\n",
    "\n",
    "x = df_yield['IAS_unsafe_flag']\n",
    "\n",
    "y = df_yield[\"yield\"]\n",
    "\n",
    "yield_chart(x, y, \"IAS\")"
   ]
  },
  {
   "attachments": {},
   "cell_type": "markdown",
   "metadata": {},
   "source": [
    "Calculate yield difference for GS only"
   ]
  },
  {
   "cell_type": "code",
   "execution_count": 17,
   "metadata": {},
   "outputs": [],
   "source": [
    "# understand yield by classification type\n",
    "\n",
    "df_yield = df_eda.groupby('GS_unsafe_flag').apply(lambda x: x['Display Revenue'].sum()/x['content_views'].sum()*100)\n",
    "\n",
    "#calculate pct difference between safe and unsafe \n",
    "\n",
    "pct_diff = (df_yield[0]-df_yield[1])/df_yield[1]*100\n",
    "\n",
    "#transform to dataframe\n",
    "\n",
    "df_yield = pd.DataFrame(df_yield)\n",
    "\n",
    "# format the df\n",
    "\n",
    "df_yield.columns = df_yield.columns.to_flat_index()\n",
    "\n",
    "df_yield = df_yield.reset_index()\n",
    "\n",
    "df_yield = df_yield.rename(columns={0: 'yield'})\n",
    "\n",
    "df_yield['yield'] = df_yield['yield'].round(2)\n"
   ]
  },
  {
   "cell_type": "code",
   "execution_count": 18,
   "metadata": {},
   "outputs": [
    {
     "data": {
      "image/png": "[encoded data removed]",
      "text/plain": [
       "<Figure size 360x288 with 1 Axes>"
      ]
     },
     "metadata": {
      "needs_background": "light"
     },
     "output_type": "display_data"
    }
   ],
   "source": [
    "# chart yield difference for GS\n",
    "\n",
    "x = df_yield['GS_unsafe_flag']\n",
    "\n",
    "y = df_yield[\"yield\"]\n",
    "\n",
    "yield_chart(x, y, \"GS\")"
   ]
  },
  {
   "attachments": {},
   "cell_type": "markdown",
   "metadata": {},
   "source": [
    "Calculate yield difference for DV only"
   ]
  },
  {
   "cell_type": "code",
   "execution_count": 19,
   "metadata": {},
   "outputs": [],
   "source": [
    "# understand yield by classification type\n",
    "\n",
    "df_yield = df_eda.groupby('DV_unsafe_flag').apply(lambda x: x['Display Revenue'].sum()/x['content_views'].sum()*100)\n",
    "\n",
    "#calculate pct difference between safe and unsafe \n",
    "\n",
    "pct_diff = (df_yield[0]-df_yield[1])/df_yield[1]*100\n",
    "\n",
    "#transform to dataframe\n",
    "\n",
    "df_yield = pd.DataFrame(df_yield)\n",
    "\n",
    "# format the df\n",
    "\n",
    "df_yield.columns = df_yield.columns.to_flat_index()\n",
    "\n",
    "df_yield = df_yield.reset_index()\n",
    "\n",
    "df_yield = df_yield.rename(columns={0: 'yield'})\n",
    "\n",
    "df_yield['yield'] = df_yield['yield'].round(2)\n"
   ]
  },
  {
   "cell_type": "code",
   "execution_count": 20,
   "metadata": {},
   "outputs": [
    {
     "data": {
      "image/png": "[encoded data removed]",
      "text/plain": [
       "<Figure size 360x288 with 1 Axes>"
      ]
     },
     "metadata": {
      "needs_background": "light"
     },
     "output_type": "display_data"
    }
   ],
   "source": [
    "# chart yield difference for GS\n",
    "\n",
    "x = df_yield['DV_unsafe_flag']\n",
    "\n",
    "y = df_yield[\"yield\"]\n",
    "\n",
    "yield_chart(x, y, \"DV\")"
   ]
  },
  {
   "attachments": {},
   "cell_type": "markdown",
   "metadata": {},
   "source": [
    "# Understand the distribution of yield by article classification"
   ]
  },
  {
   "cell_type": "code",
   "execution_count": 21,
   "metadata": {},
   "outputs": [
    {
     "name": "stderr",
     "output_type": "stream",
     "text": [
      "/var/folders/dj/h6m1714d6p510xvgy0_f10cm0000gq/T/ipykernel_66466/2886682674.py:3: SettingWithCopyWarning: \n",
      "A value is trying to be set on a copy of a slice from a DataFrame.\n",
      "Try using .loc[row_indexer,col_indexer] = value instead\n",
      "\n",
      "See the caveats in the documentation: https://pandas.pydata.org/pandas-docs/stable/user_guide/indexing.html#returning-a-view-versus-a-copy\n",
      "  df_eda['yield'] = df_eda['Display Revenue']/df_eda['content_views']*100\n",
      "/var/folders/dj/h6m1714d6p510xvgy0_f10cm0000gq/T/ipykernel_66466/2886682674.py:5: SettingWithCopyWarning: \n",
      "A value is trying to be set on a copy of a slice from a DataFrame.\n",
      "Try using .loc[row_indexer,col_indexer] = value instead\n",
      "\n",
      "See the caveats in the documentation: https://pandas.pydata.org/pandas-docs/stable/user_guide/indexing.html#returning-a-view-versus-a-copy\n",
      "  df_eda['yield'] = df_eda['yield'].round(2)\n"
     ]
    },
    {
     "data": {
      "text/html": [
       "<div>\n",
       "<style scoped>\n",
       "    .dataframe tbody tr th:only-of-type {\n",
       "        vertical-align: middle;\n",
       "    }\n",
       "\n",
       "    .dataframe tbody tr th {\n",
       "        vertical-align: top;\n",
       "    }\n",
       "\n",
       "    .dataframe thead th {\n",
       "        text-align: right;\n",
       "    }\n",
       "</style>\n",
       "<table border=\"1\" class=\"dataframe\">\n",
       "  <thead>\n",
       "    <tr style=\"text-align: right;\">\n",
       "      <th></th>\n",
       "      <th>unique_urls</th>\n",
       "      <th>headline</th>\n",
       "      <th>body</th>\n",
       "      <th>IAS_GS_unsafe_flag</th>\n",
       "      <th>GS_DV_unsafe_flag</th>\n",
       "      <th>IAS_DV_unsafe_flag</th>\n",
       "      <th>IAS_unsafe_flag</th>\n",
       "      <th>GS_unsafe_flag</th>\n",
       "      <th>DV_unsafe_flag</th>\n",
       "      <th>page_uuid</th>\n",
       "      <th>content_views</th>\n",
       "      <th>Display Revenue</th>\n",
       "      <th>yield</th>\n",
       "    </tr>\n",
       "  </thead>\n",
       "  <tbody>\n",
       "    <tr>\n",
       "      <th>0</th>\n",
       "      <td>https://news.yahoo.com/did-nothing-wrong-famil...</td>\n",
       "      <td>'He did nothing wrong': Family of Texas entrep...</td>\n",
       "      <td>A tech entrepreneur in Texas wasn’t given ampl...</td>\n",
       "      <td>unsafe</td>\n",
       "      <td>unsafe</td>\n",
       "      <td>unsafe</td>\n",
       "      <td>unsafe</td>\n",
       "      <td>unsafe</td>\n",
       "      <td>unsafe</td>\n",
       "      <td>8d0dc70c-83ca-3032-bd4b-7a51d0c47d18</td>\n",
       "      <td>1297411.0</td>\n",
       "      <td>8605.19</td>\n",
       "      <td>0.66</td>\n",
       "    </tr>\n",
       "    <tr>\n",
       "      <th>1</th>\n",
       "      <td>https://news.yahoo.com/deadline-for-real-i-ds-...</td>\n",
       "      <td>Deadline for REAL IDs, required for domestic U...</td>\n",
       "      <td>(Photo Illustration: Jack Forbes/Yahoo News; P...</td>\n",
       "      <td>unsafe</td>\n",
       "      <td>unsafe</td>\n",
       "      <td>unsafe</td>\n",
       "      <td>unsafe</td>\n",
       "      <td>unsafe</td>\n",
       "      <td>safe</td>\n",
       "      <td>870b1a79-8072-4cbb-83ce-31e2529d601a</td>\n",
       "      <td>629616.0</td>\n",
       "      <td>3758.81</td>\n",
       "      <td>0.60</td>\n",
       "    </tr>\n",
       "  </tbody>\n",
       "</table>\n",
       "</div>"
      ],
      "text/plain": [
       "                                         unique_urls  \\\n",
       "0  https://news.yahoo.com/did-nothing-wrong-famil...   \n",
       "1  https://news.yahoo.com/deadline-for-real-i-ds-...   \n",
       "\n",
       "                                            headline  \\\n",
       "0  'He did nothing wrong': Family of Texas entrep...   \n",
       "1  Deadline for REAL IDs, required for domestic U...   \n",
       "\n",
       "                                                body IAS_GS_unsafe_flag  \\\n",
       "0  A tech entrepreneur in Texas wasn’t given ampl...             unsafe   \n",
       "1  (Photo Illustration: Jack Forbes/Yahoo News; P...             unsafe   \n",
       "\n",
       "  GS_DV_unsafe_flag IAS_DV_unsafe_flag IAS_unsafe_flag GS_unsafe_flag  \\\n",
       "0            unsafe             unsafe          unsafe         unsafe   \n",
       "1            unsafe             unsafe          unsafe         unsafe   \n",
       "\n",
       "  DV_unsafe_flag                             page_uuid  content_views  \\\n",
       "0         unsafe  8d0dc70c-83ca-3032-bd4b-7a51d0c47d18      1297411.0   \n",
       "1           safe  870b1a79-8072-4cbb-83ce-31e2529d601a       629616.0   \n",
       "\n",
       "   Display Revenue  yield  \n",
       "0          8605.19   0.66  \n",
       "1          3758.81   0.60  "
      ]
     },
     "execution_count": 21,
     "metadata": {},
     "output_type": "execute_result"
    }
   ],
   "source": [
    "#add yield calculation to the EDA df \n",
    "\n",
    "df_eda['yield'] = df_eda['Display Revenue']/df_eda['content_views']*100\n",
    "\n",
    "df_eda['yield'] = df_eda['yield'].round(2)\n",
    "\n",
    "df_eda.head(2)"
   ]
  },
  {
   "cell_type": "code",
   "execution_count": 22,
   "metadata": {},
   "outputs": [
    {
     "data": {
      "image/png": "[encoded data removed]",
      "text/plain": [
       "<Figure size 576x432 with 1 Axes>"
      ]
     },
     "metadata": {
      "needs_background": "light"
     },
     "output_type": "display_data"
    }
   ],
   "source": [
    "def histogram_median_mean(x, feature_name):\n",
    "    plt.rcParams[\"figure.figsize\"] = (8,6)\n",
    "    result = plt.hist(x, bins='auto', color='#b887ed', alpha=0.9, edgecolor ='k')\n",
    "    plt.axvline(x.mean(), color='#ffb20a', linestyle='dashed',linewidth=1, label=x.mean)\n",
    "    #plt.axvline(x.mean() + x.std(), color='#d3d3d5', linestyle='dashed',linewidth=1, label=x.std)\n",
    "    #plt.axvline(x.mean() - x.std(), color='#d3d3d5', linestyle='dashed',linewidth=1, label=x.std)\n",
    "    plt.axvline(x.median(), color='#ffb20a', linestyle='solid',linewidth=1, label=x.median)\n",
    "    plt.title('{} '.format(feature_name)+\"Distribution with Median (solid)\\n and Mean (dashed) lines\")\n",
    "    plt.xlabel('{} '.format(feature_name))\n",
    "    plt.ylabel(\"Frequency\")\n",
    "    plt.text(x.mean()*1.1, 60,'Mean Yield: {:.2f}'.format(x.mean()))\n",
    "    #plt.text(x.mean() + x.std()*1.1, 30,'Stdev: {:.2f}'.format(x.mean() + x.std()))\n",
    "    #plt.text(x.mean() - x.std()*1.1, 30,'Stdev: {:.2f}'.format(x.mean() - x.std()))\n",
    "    plt.text(x.median()*1.1, 80, 'Median Yield: {:.2f}'.format(x.median()))\n",
    "\n",
    "    plt.show()\n",
    "\n",
    "x = df_eda['yield']\n",
    "\n",
    "histogram_median_mean(x, \"Article Yield\")\n",
    "    "
   ]
  },
  {
   "attachments": {},
   "cell_type": "markdown",
   "metadata": {},
   "source": [
    "The distribution of article yields seems to follow a distribution with right skew (positively skewed)"
   ]
  },
  {
   "cell_type": "code",
   "execution_count": 23,
   "metadata": {},
   "outputs": [
    {
     "data": {
      "image/png": "[encoded data removed]",
      "text/plain": [
       "<Figure size 576x432 with 1 Axes>"
      ]
     },
     "metadata": {
      "needs_background": "light"
     },
     "output_type": "display_data"
    }
   ],
   "source": [
    "# plot the distribution of safe articles according to both GS and DV \n",
    "\n",
    "x = df_eda['yield'].loc[df['GS_DV_unsafe_flag']=='safe']\n",
    "\n",
    "histogram_median_mean(x, \"GS & DV Safe Article Yield\")"
   ]
  },
  {
   "cell_type": "code",
   "execution_count": 24,
   "metadata": {},
   "outputs": [
    {
     "data": {
      "image/png": "[encoded data removed]",
      "text/plain": [
       "<Figure size 576x432 with 1 Axes>"
      ]
     },
     "metadata": {
      "needs_background": "light"
     },
     "output_type": "display_data"
    }
   ],
   "source": [
    "# plot the distribution of safe articles according to both GS and DV \n",
    "\n",
    "x = df_eda['yield'].loc[df['GS_DV_unsafe_flag']=='unsafe']\n",
    "\n",
    "histogram_median_mean(x, \"GS & DV Safe Article Yield\")"
   ]
  },
  {
   "attachments": {},
   "cell_type": "markdown",
   "metadata": {},
   "source": [
    "Conduct a t-test to understand if the averages of Safe and Unsafe are statistically siginificant"
   ]
  },
  {
   "cell_type": "code",
   "execution_count": 25,
   "metadata": {},
   "outputs": [
    {
     "name": "stdout",
     "output_type": "stream",
     "text": [
      "0.0634553392059949 0.03378985436189372\n"
     ]
    }
   ],
   "source": [
    "# calculate the variance of yield between safe and unsafe \n",
    "\n",
    "gsdv_safe_yield = df_eda['yield'].loc[df_eda['GS_DV_unsafe_flag']=='safe']\n",
    "\n",
    "gsdv_unsafe_yield = df_eda['yield'].loc[df_eda['GS_DV_unsafe_flag']=='unsafe']\n",
    "\n",
    "# Print the variance of both data groups\n",
    "print(np.var(gsdv_safe_yield), np.var(gsdv_unsafe_yield))\n"
   ]
  },
  {
   "attachments": {},
   "cell_type": "markdown",
   "metadata": {},
   "source": [
    "variance is less than 4:1 ratio so we can consider the two groups have equal variance"
   ]
  },
  {
   "cell_type": "code",
   "execution_count": 26,
   "metadata": {},
   "outputs": [
    {
     "data": {
      "text/plain": [
       "Ttest_indResult(statistic=6.567075743473833, pvalue=7.699736532247139e-11)"
      ]
     },
     "execution_count": 26,
     "metadata": {},
     "output_type": "execute_result"
    }
   ],
   "source": [
    "# Import the library\n",
    "import scipy.stats as stats\n",
    "\n",
    "# Perform the two sample t-test with equal variances\n",
    "stats.ttest_ind(a=gsdv_safe_yield, b=gsdv_unsafe_yield, equal_var=True)"
   ]
  },
  {
   "attachments": {},
   "cell_type": "markdown",
   "metadata": {},
   "source": [
    "p-value is lower than the significance level alpha 0.05 so we can reject the null hypothesis (both samples have the same mean) and assume that the actual mean of the entire popuation of safe and unsafe articles is different"
   ]
  },
  {
   "attachments": {},
   "cell_type": "markdown",
   "metadata": {},
   "source": [
    "Understand if the data is normally distributed"
   ]
  },
  {
   "cell_type": "code",
   "execution_count": 27,
   "metadata": {},
   "outputs": [
    {
     "name": "stdout",
     "output_type": "stream",
     "text": [
      "stat=0.889, p=0.000\n",
      "Probably not normally distributed\n"
     ]
    }
   ],
   "source": [
    "#perform test to understand if the yield distribution is normal \n",
    "\n",
    "# compute test statistic\n",
    "from scipy.stats import shapiro\n",
    "\n",
    "alpha = 0.05 # significance level = (1 - required confidence level)\n",
    "\n",
    "stat, p = shapiro(df_eda['yield'])\n",
    "print('stat=%.3f, p=%.3f' % (stat, p))\n",
    "if p > alpha:\n",
    "\tprint('The sample is p=%.3f normally distributed' % (p))\n",
    "else:\n",
    "\tprint('Probably not normally distributed')\n"
   ]
  },
  {
   "cell_type": "code",
   "execution_count": 28,
   "metadata": {},
   "outputs": [
    {
     "name": "stdout",
     "output_type": "stream",
     "text": [
      "stat=438.623, p=0.000\n",
      "Probably not normally distributed\n"
     ]
    }
   ],
   "source": [
    "# augostino\n",
    "from scipy.stats import normaltest\n",
    "stat, p = normaltest(df_eda['yield'])\n",
    "\n",
    "print('stat=%.3f, p=%.3f' % (stat, p))\n",
    "if p > alpha:\n",
    "\tprint('The sample is p=%.3f normally distributed' % (p))\n",
    "else:\n",
    "\tprint('Probably not normally distributed')\n"
   ]
  },
  {
   "cell_type": "code",
   "execution_count": 29,
   "metadata": {},
   "outputs": [
    {
     "name": "stdout",
     "output_type": "stream",
     "text": [
      "stat=438.623, p=0.000\n",
      "Probably not normally distributed\n"
     ]
    }
   ],
   "source": [
    "# anderson\n",
    "from scipy.stats import anderson\n",
    "stat, p = normaltest(df_eda['yield'])\n",
    "\n",
    "print('stat=%.3f, p=%.3f' % (stat, p))\n",
    "if p > alpha:\n",
    "\tprint('The sample is p=%.3f normally distributed' % (p))\n",
    "else:\n",
    "\tprint('Probably not normally distributed')\n"
   ]
  },
  {
   "cell_type": "code",
   "execution_count": 30,
   "metadata": {},
   "outputs": [],
   "source": [
    "# identify the type of data distribution for yield \n",
    "\n",
    "dist_names = ['weibull_min','norm','weibull_max','beta',\n",
    "              'invgauss','uniform','gamma','expon',   \n",
    "              'lognorm','pearson3','triang']"
   ]
  },
  {
   "cell_type": "code",
   "execution_count": 31,
   "metadata": {},
   "outputs": [],
   "source": [
    "from sklearn.preprocessing import StandardScaler\n",
    "\n",
    "def standarise(column,pct,pct_lower):\n",
    "    sc = StandardScaler() \n",
    "    y = df_eda[column][df_eda[column].notnull()].to_list()\n",
    "    y.sort()\n",
    "    len_y = len(y)\n",
    "    y = y[int(pct_lower * len_y):int(len_y * pct)]\n",
    "    len_y = len(y)\n",
    "    yy=([[x] for x in y])\n",
    "    sc.fit(yy)\n",
    "    y_std =sc.transform(yy)\n",
    "    y_std = y_std.flatten()\n",
    "    return y_std,len_y,y"
   ]
  },
  {
   "cell_type": "code",
   "execution_count": 32,
   "metadata": {},
   "outputs": [],
   "source": [
    "import scipy.stats"
   ]
  },
  {
   "cell_type": "code",
   "execution_count": 33,
   "metadata": {},
   "outputs": [],
   "source": [
    "\n",
    "def fit_distribution(column,pct,pct_lower):\n",
    "    # Set up list of candidate distributions to use\n",
    "    y_std,size,y_org = standarise(column,pct,pct_lower)\n",
    "    dist_names = ['weibull_min','norm','weibull_max','beta',\n",
    "                 'invgauss','uniform','gamma','expon', 'lognorm','pearson3','triang']\n",
    "\n",
    "    chi_square_statistics = []\n",
    "    # 11 bins\n",
    "    percentile_bins = np.linspace(0,100,11)\n",
    "    percentile_cutoffs = np.percentile(y_std, percentile_bins)\n",
    "    observed_frequency, bins = (np.histogram(y_std, bins=percentile_cutoffs))\n",
    "    cum_observed_frequency = np.cumsum(observed_frequency)\n",
    "\n",
    "    # Loop through candidate distributions\n",
    "\n",
    "    for distribution in dist_names:\n",
    "        # Set up distribution and get fitted distribution parameters\n",
    "        dist = getattr(scipy.stats, distribution)\n",
    "        param = dist.fit(y_std)\n",
    "        print(\"{}\\n{}\\n\".format(dist, param))\n",
    "      \n",
    "\n",
    "        # Get expected counts in percentile bins\n",
    "        # cdf of fitted sistrinution across bins\n",
    "        cdf_fitted = dist.cdf(percentile_cutoffs, *param)\n",
    "        expected_frequency = []\n",
    "        for bin in range(len(percentile_bins)-1):\n",
    "            expected_cdf_area = cdf_fitted[bin+1] - cdf_fitted[bin]\n",
    "            expected_frequency.append(expected_cdf_area)\n",
    "\n",
    "        # Chi-square Statistics\n",
    "        expected_frequency = np.array(expected_frequency) * size\n",
    "        cum_expected_frequency = np.cumsum(expected_frequency)\n",
    "        ss = round(sum (((cum_expected_frequency - cum_observed_frequency) ** 2) / cum_observed_frequency),0)\n",
    "        chi_square_statistics.append(ss)\n",
    "\n",
    "\n",
    "    #Sort by minimum ch-square statistics\n",
    "    results = pd.DataFrame()\n",
    "    results['Distribution'] = dist_names\n",
    "    results['chi_square'] = chi_square_statistics\n",
    "    results.sort_values(['chi_square'], inplace=True)\n",
    "\n",
    "\n",
    "    print ('\\nDistributions listed by Betterment of fit:')\n",
    "    print ('............................................')\n",
    "    print (results)"
   ]
  },
  {
   "cell_type": "code",
   "execution_count": 34,
   "metadata": {},
   "outputs": [
    {
     "name": "stdout",
     "output_type": "stream",
     "text": [
      "<scipy.stats._continuous_distns.weibull_min_gen object at 0x131432d10>\n",
      "(0.9906895654821561, -1.6491247303730654, 1.279137428073775)\n",
      "\n",
      "<scipy.stats._continuous_distns.norm_gen object at 0x130f23340>\n",
      "(-4.947207907816189e-17, 0.9999999999999998)\n",
      "\n",
      "<scipy.stats._continuous_distns.weibull_max_gen object at 0x131430490>\n",
      "(33300984.14848073, 25731088.131461106, 25731088.58424581)\n",
      "\n",
      "<scipy.stats._continuous_distns.beta_gen object at 0x130f23400>\n",
      "(2.8696009920749668, 29.03171004713006, -1.8024363884846126, 20.037914412447776)\n",
      "\n",
      "<scipy.stats._continuous_distns.invgauss_gen object at 0x131463c70>\n",
      "(0.15492197996075957, -2.574475467210938, 16.61788724082762)\n",
      "\n",
      "<scipy.stats._continuous_distns.uniform_gen object at 0x1314b7d00>\n",
      "(-1.6491247303730652, 5.568080518746738)\n",
      "\n",
      "<scipy.stats._continuous_distns.gamma_gen object at 0x131461cc0>\n",
      "(3.4505569206822067, -1.8710847735877563, 0.5422550985962931)\n",
      "\n",
      "<scipy.stats._continuous_distns.expon_gen object at 0x131433760>\n",
      "(-1.6491247303730652, 1.6491247303730652)\n",
      "\n"
     ]
    },
    {
     "name": "stderr",
     "output_type": "stream",
     "text": [
      "/Library/Frameworks/Python.framework/Versions/3.10/lib/python3.10/site-packages/scipy/stats/_continuous_distns.py:639: RuntimeWarning: invalid value encountered in sqrt\n",
      "  sk = 2*(b-a)*np.sqrt(a + b + 1) / (a + b + 2) / np.sqrt(a*b)\n"
     ]
    },
    {
     "name": "stdout",
     "output_type": "stream",
     "text": [
      "<scipy.stats._continuous_distns.lognorm_gen object at 0x1314823e0>\n",
      "(0.39046319197752966, -2.515616775377708, 2.3324020325038957)\n",
      "\n",
      "<scipy.stats._continuous_distns.pearson3_gen object at 0x131481630>\n",
      "(1.0766591199157904, -4.739310429342155e-17, 1.0072551494741866)\n",
      "\n",
      "<scipy.stats._continuous_distns.triang_gen object at 0x1314b6da0>\n",
      "(0.12984762871172284, -1.7527442682020697, 5.6987705586924715)\n",
      "\n",
      "\n",
      "Distributions listed by Betterment of fit:\n",
      "............................................\n",
      "   Distribution  chi_square\n",
      "2   weibull_max         1.0\n",
      "8       lognorm         2.0\n",
      "4      invgauss         3.0\n",
      "6         gamma         6.0\n",
      "9      pearson3         6.0\n",
      "3          beta         8.0\n",
      "1          norm       140.0\n",
      "10       triang       163.0\n",
      "7         expon       905.0\n",
      "5       uniform       938.0\n",
      "0   weibull_min      1894.0\n"
     ]
    }
   ],
   "source": [
    "# fit multiple distributions to see which one fits better the yield column \n",
    "\n",
    "fit_distribution('yield',0.99,0.01)\n"
   ]
  },
  {
   "attachments": {},
   "cell_type": "markdown",
   "metadata": {},
   "source": [
    "Looks like our data fits more a weibull max distribution"
   ]
  },
  {
   "cell_type": "code",
   "execution_count": 35,
   "metadata": {},
   "outputs": [],
   "source": [
    "def standarise2(column,pct,pct_lower):\n",
    "    sc = StandardScaler() \n",
    "    y = df_eda[column][df_eda[column].notnull()].to_list()\n",
    "    y.sort()\n",
    "    len_y = len(y)\n",
    "    y = y[int(pct_lower * len_y):int(len_y * pct)]\n",
    "    len_y = len(y)\n",
    "    yy=([[x] for x in y])\n",
    "    sc.fit(yy)\n",
    "    y_std =sc.transform(yy)\n",
    "    y_std = y_std.flatten()\n",
    "    return y_std, y"
   ]
  },
  {
   "cell_type": "code",
   "execution_count": 36,
   "metadata": {},
   "outputs": [
    {
     "data": {
      "image/png": "[encoded data removed]",
      "text/plain": [
       "<Figure size 648x360 with 3 Axes>"
      ]
     },
     "metadata": {
      "needs_background": "light"
     },
     "output_type": "display_data"
    }
   ],
   "source": [
    "#visualize the results \n",
    "\n",
    "from scipy.stats import weibull_max\n",
    "from scipy.stats import lognorm\n",
    "\n",
    "y_std, y = standarise2('yield',0.99,0.01)\n",
    "\n",
    "fig, axes = plt.subplots(nrows=1, ncols=3, figsize=(9, 5))\n",
    "# Histogram Plot of Observed Data\n",
    "axes[0].hist(y)\n",
    "axes[0].set_title(\"Actual normalised distribution\")\n",
    "#Weibull Max Distribution Fitting\n",
    "axes[1].plot(y,weibull_max.pdf(y_std,33300984.15, 25731088.13, 25731088.58))\n",
    "axes[1].set_title(\"Weibull Max distribution\")\n",
    "#LogNorm Distribution Fitting\n",
    "axes[2].plot(y,lognorm.pdf(y_std,0.39, -2.51, 2.33))\n",
    "axes[2].set_title(\"Log Normal distribution\")\n",
    "fig.tight_layout()"
   ]
  },
  {
   "attachments": {},
   "cell_type": "markdown",
   "metadata": {},
   "source": [
    "There are several statistical tests that you can use to compare the means of two groups when the data are not normally distributed. Some options include:\n",
    "\n",
    "The Wilcoxon rank-sum test, also known as the Mann-Whitney U test. This is a nonparametric test that compares the means of the two groups by ranking the data from lowest to highest and comparing the ranks of the data from each group.\n",
    "\n",
    "The Kruskal-Wallis test. This is also a nonparametric test that compares the means of two or more groups by ranking the data from lowest to highest and comparing the ranks across the groups."
   ]
  },
  {
   "cell_type": "code",
   "execution_count": 37,
   "metadata": {},
   "outputs": [
    {
     "data": {
      "text/plain": [
       "RanksumsResult(statistic=5.754289942959497, pvalue=8.700671577764918e-09)"
      ]
     },
     "execution_count": 37,
     "metadata": {},
     "output_type": "execute_result"
    }
   ],
   "source": [
    "#run Wilcoxon rank-sum test\n",
    "\n",
    "from scipy.stats import ranksums\n",
    "\n",
    "ranksums(gsdv_safe_yield, gsdv_unsafe_yield)"
   ]
  },
  {
   "attachments": {},
   "cell_type": "markdown",
   "metadata": {},
   "source": [
    "Wilcoxon rank-sum has a p-value of less than 5% which rejects the null hypothesis and indicates the 2 samples have different mean values"
   ]
  },
  {
   "cell_type": "code",
   "execution_count": 38,
   "metadata": {},
   "outputs": [
    {
     "data": {
      "text/plain": [
       "KruskalResult(statistic=33.12392163490583, pvalue=8.646833585489427e-09)"
      ]
     },
     "execution_count": 38,
     "metadata": {},
     "output_type": "execute_result"
    }
   ],
   "source": [
    "#run Kruskal-Wallis test\n",
    "\n",
    "from scipy import stats\n",
    "\n",
    "stats.kruskal(gsdv_safe_yield, gsdv_unsafe_yield)"
   ]
  },
  {
   "attachments": {},
   "cell_type": "markdown",
   "metadata": {},
   "source": [
    "Kruskal-Wallis test also rejects the null hypothesis"
   ]
  },
  {
   "attachments": {},
   "cell_type": "markdown",
   "metadata": {},
   "source": [
    "# Understand the distribution of unsafe and safe articles"
   ]
  },
  {
   "cell_type": "code",
   "execution_count": 39,
   "metadata": {},
   "outputs": [
    {
     "data": {
      "text/plain": [
       "['unique_urls',\n",
       " 'headline',\n",
       " 'body',\n",
       " 'IAS_GS_unsafe_flag',\n",
       " 'GS_DV_unsafe_flag',\n",
       " 'IAS_DV_unsafe_flag',\n",
       " 'IAS_unsafe_flag',\n",
       " 'GS_unsafe_flag',\n",
       " 'DV_unsafe_flag',\n",
       " 'page_uuid',\n",
       " 'content_views',\n",
       " 'Display Revenue']"
      ]
     },
     "execution_count": 39,
     "metadata": {},
     "output_type": "execute_result"
    }
   ],
   "source": [
    "df.columns.to_list()"
   ]
  },
  {
   "cell_type": "code",
   "execution_count": 40,
   "metadata": {},
   "outputs": [
    {
     "data": {
      "text/plain": [
       "37"
      ]
     },
     "execution_count": 40,
     "metadata": {},
     "output_type": "execute_result"
    }
   ],
   "source": [
    "res = df.groupby('IAS_GS_unsafe_flag').size()\n",
    "\n",
    "res[0]"
   ]
  },
  {
   "cell_type": "code",
   "execution_count": 41,
   "metadata": {},
   "outputs": [
    {
     "name": "stdout",
     "output_type": "stream",
     "text": [
      "Proportion of safe articles based on IAS_GS_unsafe_flag classification is 1.9%\n",
      "Proportion of safe articles based on GS_DV_unsafe_flag classification is 43.3%\n",
      "Proportion of safe articles based on IAS_DV_unsafe_flag classification is 2.9%\n",
      "Proportion of safe articles based on IAS_unsafe_flag classification is 3.2%\n",
      "Proportion of safe articles based on GS_unsafe_flag classification is 53.7%\n",
      "Proportion of safe articles based on DV_unsafe_flag classification is 67.2%\n"
     ]
    }
   ],
   "source": [
    "vendor_list = ['IAS_GS_unsafe_flag',\n",
    " 'GS_DV_unsafe_flag',\n",
    " 'IAS_DV_unsafe_flag',\n",
    " 'IAS_unsafe_flag',\n",
    " 'GS_unsafe_flag',\n",
    " 'DV_unsafe_flag']\n",
    "\n",
    "for i in vendor_list:\n",
    "    res = df.groupby(i).size()\n",
    "    prop = res[0]/(res[0]+res[1])*100\n",
    "    print(\"Proportion of safe articles based on {} classification is {:.1f}%\".format(i, prop))"
   ]
  },
  {
   "cell_type": "markdown",
   "metadata": {},
   "source": []
  }
 ],
 "metadata": {
  "kernelspec": {
   "display_name": "Python 3",
   "language": "python",
   "name": "python3"
  },
  "language_info": {
   "codemirror_mode": {
    "name": "ipython",
    "version": 3
   },
   "file_extension": ".py",
   "mimetype": "text/x-python",
   "name": "python",
   "nbconvert_exporter": "python",
   "pygments_lexer": "ipython3",
   "version": "3.10.1"
  },
  "orig_nbformat": 4,
  "vscode": {
   "interpreter": {
    "hash": "aee8b7b246df8f9039afb4144a1f6fd8d2ca17a180786b69acc140d282b71a49"
   }
  }
 },
 "nbformat": 4,
 "nbformat_minor": 2
}
